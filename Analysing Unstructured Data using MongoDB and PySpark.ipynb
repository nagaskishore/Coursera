{
  "nbformat": 4,
  "nbformat_minor": 0,
  "metadata": {
    "kernelspec": {
      "display_name": "Python 3",
      "language": "python",
      "name": "python3"
    },
    "language_info": {
      "codemirror_mode": {
        "name": "ipython",
        "version": 3
      },
      "file_extension": ".py",
      "mimetype": "text/x-python",
      "name": "python",
      "nbconvert_exporter": "python",
      "pygments_lexer": "ipython3",
      "version": "3.6.9"
    },
    "colab": {
      "name": "code_empty.ipynb",
      "provenance": [],
      "include_colab_link": true
    }
  },
  "cells": [
    {
      "cell_type": "markdown",
      "metadata": {
        "id": "view-in-github",
        "colab_type": "text"
      },
      "source": [
        "<a href=\"https://colab.research.google.com/github/nagaskishore/Coursera/blob/main/Analysing%20Unstructured%20Data%20using%20MongoDB%20and%20PySpark.ipynb\" target=\"_parent\"><img src=\"https://colab.research.google.com/assets/colab-badge.svg\" alt=\"Open In Colab\"/></a>"
      ]
    },
    {
      "cell_type": "code",
      "metadata": {
        "id": "DYVu-YfjU7vu"
      },
      "source": [
        "import os\n",
        "os.environ[\"JAVA_HOME\"] = \"/usr/lib/jvm/java-8-openjdk-amd64\"\n",
        "os.environ[\"SPARK_HOME\"] = \"/home/rhyme/spark-2.4.7-bin-hadoop2.7\"\n",
        "import findspark\n",
        "findspark.init()\n",
        "from pyspark.sql import SparkSession, SQLContext\n",
        "from pyspark import SparkConf, SparkContext\n",
        "import pyspark\n",
        "from pyspark.sql.functions import col"
      ],
      "execution_count": null,
      "outputs": []
    },
    {
      "cell_type": "code",
      "metadata": {
        "id": "RSjOHr9jU7vw"
      },
      "source": [
        "# Task 1 - start Mongodb server, start MongoDB Compass and Connect, upload movies dataset to MongoDB, run from Project folder\n",
        "# sudo mongod --nojournal --dbpath /data/db\n",
        "# mongorestore --host localhost --port 27017 --db sample_mflix --dir ./sample_mflix"
      ],
      "execution_count": null,
      "outputs": []
    },
    {
      "cell_type": "code",
      "metadata": {
        "id": "NnjYhu1_U7vw"
      },
      "source": [
        "# task 2 - connect to mongo db, read collection, get schema\n",
        "spark = SparkSession \\\n",
        "    .builder \\\n",
        "    .master('local') \\\n",
        "    .config('spark.jars.packages', 'org.mongodb.spark:mongo-spark-connector_2.11:2.2.0') \\\n",
        "    .config('spark.mongodb.input.uri', 'mongodb://127.0.0.1/sample_mflix.movies') \\\n",
        "    .config('spark.mongodb.output.uri', 'mongodb://127.0.0.1/sample_mflix.analyses') \\\n",
        "    .getOrCreate()"
      ],
      "execution_count": null,
      "outputs": []
    },
    {
      "cell_type": "code",
      "metadata": {
        "id": "RX6oKQOyU7vy"
      },
      "source": [
        "data = spark.read.format('com.mongodb.spark.sql.DefaultSource').load()"
      ],
      "execution_count": null,
      "outputs": []
    },
    {
      "cell_type": "code",
      "metadata": {
        "id": "_lJKHjiOU7vy",
        "outputId": "0d989196-63e4-4cc4-ddc0-4fb9e22baf32"
      },
      "source": [
        "data.printSchema()"
      ],
      "execution_count": null,
      "outputs": [
        {
          "output_type": "stream",
          "text": [
            "root\n",
            " |-- _id: struct (nullable = true)\n",
            " |    |-- oid: string (nullable = true)\n",
            " |-- awards: struct (nullable = true)\n",
            " |    |-- wins: integer (nullable = true)\n",
            " |    |-- nominations: integer (nullable = true)\n",
            " |    |-- text: string (nullable = true)\n",
            " |-- cast: array (nullable = true)\n",
            " |    |-- element: string (containsNull = true)\n",
            " |-- countries: array (nullable = true)\n",
            " |    |-- element: string (containsNull = true)\n",
            " |-- directors: array (nullable = true)\n",
            " |    |-- element: string (containsNull = true)\n",
            " |-- fullplot: string (nullable = true)\n",
            " |-- genres: array (nullable = true)\n",
            " |    |-- element: string (containsNull = true)\n",
            " |-- imdb: struct (nullable = true)\n",
            " |    |-- id: integer (nullable = true)\n",
            " |    |-- rating: string (nullable = true)\n",
            " |    |-- votes: string (nullable = true)\n",
            " |-- languages: array (nullable = true)\n",
            " |    |-- element: string (containsNull = true)\n",
            " |-- lastupdated: string (nullable = true)\n",
            " |-- metacritic: integer (nullable = true)\n",
            " |-- num_mflix_comments: double (nullable = true)\n",
            " |-- plot: string (nullable = true)\n",
            " |-- poster: string (nullable = true)\n",
            " |-- rated: string (nullable = true)\n",
            " |-- released: timestamp (nullable = true)\n",
            " |-- runtime: integer (nullable = true)\n",
            " |-- title: string (nullable = true)\n",
            " |-- tomatoes: struct (nullable = true)\n",
            " |    |-- boxOffice: string (nullable = true)\n",
            " |    |-- consensus: string (nullable = true)\n",
            " |    |-- critic: struct (nullable = true)\n",
            " |    |    |-- meter: integer (nullable = true)\n",
            " |    |    |-- numReviews: integer (nullable = true)\n",
            " |    |    |-- rating: double (nullable = true)\n",
            " |    |-- dvd: timestamp (nullable = true)\n",
            " |    |-- fresh: integer (nullable = true)\n",
            " |    |-- lastUpdated: timestamp (nullable = true)\n",
            " |    |-- production: string (nullable = true)\n",
            " |    |-- rotten: integer (nullable = true)\n",
            " |    |-- viewer: struct (nullable = true)\n",
            " |    |    |-- meter: integer (nullable = true)\n",
            " |    |    |-- numReviews: integer (nullable = true)\n",
            " |    |    |-- rating: double (nullable = true)\n",
            " |    |-- website: string (nullable = true)\n",
            " |-- type: string (nullable = true)\n",
            " |-- writers: array (nullable = true)\n",
            " |    |-- element: string (containsNull = true)\n",
            " |-- year: string (nullable = true)\n",
            "\n"
          ],
          "name": "stdout"
        }
      ]
    },
    {
      "cell_type": "code",
      "metadata": {
        "id": "iuiC4Db-U7vz",
        "outputId": "1cf77b8d-39d5-4d13-88c3-85716c70400e"
      },
      "source": [
        "# task 3 - selecting and grouping\n",
        "data.count()"
      ],
      "execution_count": null,
      "outputs": [
        {
          "output_type": "execute_result",
          "data": {
            "text/plain": [
              "23539"
            ]
          },
          "metadata": {
            "tags": []
          },
          "execution_count": 13
        }
      ]
    },
    {
      "cell_type": "code",
      "metadata": {
        "id": "UTZcQ3WfU7v0",
        "outputId": "374704d8-8b74-4510-9240-68fd40555f2b"
      },
      "source": [
        "data.show(5)"
      ],
      "execution_count": null,
      "outputs": [
        {
          "output_type": "stream",
          "text": [
            "+--------------------+--------------+--------------------+---------+--------------------+--------------------+--------------------+-----------------+---------+--------------------+----------+------------------+--------------------+--------------------+-------+-------------------+-------+--------------------+--------------------+-----+--------------------+----+\n",
            "|                 _id|        awards|                cast|countries|           directors|            fullplot|              genres|             imdb|languages|         lastupdated|metacritic|num_mflix_comments|                plot|              poster|  rated|           released|runtime|               title|            tomatoes| type|             writers|year|\n",
            "+--------------------+--------------+--------------------+---------+--------------------+--------------------+--------------------+-----------------+---------+--------------------+----------+------------------+--------------------+--------------------+-------+-------------------+-------+--------------------+--------------------+-----+--------------------+----+\n",
            "|[573a1390f29313ca...|[1, 0, 1 win.]|[Charles Kayser, ...|    [USA]|[William K.L. Dic...|A stationary came...|             [Short]|   [5, 6.2, 1189]|     null|2015-08-26 00:03:...|      null|               1.0|Three men hammer ...|                null|UNRATED|1893-05-09 00:00:00|      1|    Blacksmith Scene|[,,,,, 2015-06-28...|movie|                null|1893|\n",
            "|[573a1390f29313ca...|[1, 0, 1 win.]|[A.C. Abadie, Gil...|    [USA]|   [Edwin S. Porter]|Among the earlies...|    [Short, Western]| [439, 7.4, 9847]|[English]|2015-08-13 00:27:...|      null|              null|A group of bandit...|https://m.media-a...|   TV-G|1903-12-01 00:00:00|     11|The Great Train R...|[,, [100, 6, 7.6]...|movie|                null|1903|\n",
            "|[573a1390f29313ca...|[1, 0, 1 win.]|[Martin Fuller, M...|    [USA]|    [Harold M. Shaw]|Thanks to the Fre...|[Short, Drama, Fa...|  [488, 7.1, 448]|[English]|2015-08-29 00:27:...|      null|               2.0|A young boy, opre...|https://m.media-a...|UNRATED|1912-10-28 00:00:00|     14|The Land Beyond t...|[,,,,, 2015-04-27...|movie|  [Dorothy G. Shore]|1912|\n",
            "|[573a1390f29313ca...|[1, 0, 1 win.]|[Frank Powell, Gr...|    [USA]|     [D.W. Griffith]|A greedy tycoon d...|      [Short, Drama]| [832, 6.6, 1375]|[English]|2015-08-13 00:46:...|      null|               1.0|A greedy tycoon d...|                null|      G|1909-12-13 00:00:00|     14|   A Corner in Wheat|[,,,,, 2015-05-11...|movie|                null|1909|\n",
            "|[573a1390f29313ca...|[1, 0, 1 win.]|      [Winsor McCay]|    [USA]|[Winsor McCay, J....|Cartoonist Winsor...|[Animation, Short...|[1737, 7.3, 1034]|[English]|2015-08-29 01:09:...|      null|               1.0|Cartoon figures a...|https://m.media-a...|   null|1911-04-08 00:00:00|      7|Winsor McCay, the...|[,,,,, 2015-08-20...|movie|[Winsor McCay (co...|1911|\n",
            "+--------------------+--------------+--------------------+---------+--------------------+--------------------+--------------------+-----------------+---------+--------------------+----------+------------------+--------------------+--------------------+-------+-------------------+-------+--------------------+--------------------+-----+--------------------+----+\n",
            "only showing top 5 rows\n",
            "\n"
          ],
          "name": "stdout"
        }
      ]
    },
    {
      "cell_type": "code",
      "metadata": {
        "id": "PwBcNS98U7v0",
        "outputId": "40add3f9-38cc-4b90-b532-6bbd99ff8349"
      },
      "source": [
        "data.select(['title', 'fullplot']).head(5)"
      ],
      "execution_count": null,
      "outputs": [
        {
          "output_type": "execute_result",
          "data": {
            "text/plain": [
              "[Row(title='Blacksmith Scene', fullplot='A stationary camera looks at a large anvil with a blacksmith behind it and one on either side. The smith in the middle draws a heated metal rod from the fire, places it on the anvil, and all three begin a rhythmic hammering. After several blows, the metal goes back in the fire. One smith pulls out a bottle of beer, and they each take a swig. Then, out comes the glowing metal and the hammering resumes.'),\n",
              " Row(title='The Great Train Robbery', fullplot=\"Among the earliest existing films in American cinema - notable as the first film that presented a narrative story to tell - it depicts a group of cowboy outlaws who hold up a train and rob the passengers. They are then pursued by a Sheriff's posse. Several scenes have color included - all hand tinted.\"),\n",
              " Row(title='The Land Beyond the Sunset', fullplot=\"Thanks to the Fresh Air Fund, a slum child escapes his drunken mother for a day's outing in the country. Upon arriving, he and the other children are told a story about a mythical land of no pain. Rather then return to the slum at day's end, the lad seeks to journey to that beautiful land beyond the sunset.\"),\n",
              " Row(title='A Corner in Wheat', fullplot=\"A greedy tycoon decides, on a whim, to corner the world market in wheat. This doubles the price of bread, forcing the grain's producers into charity lines and further into poverty. The film continues to contrast the ironic differences between the lives of those who work to grow the wheat and the life of the man who dabbles in its sale for profit.\"),\n",
              " Row(title='Winsor McCay, the Famous Cartoonist of the N.Y. Herald and His Moving Comics', fullplot='Cartoonist Winsor McCay agrees to create a large set of drawings that will be photographed and made into a motion picture. The job requires plenty of drawing supplies, and the cartoonist must also overcome some mishaps caused by an assistant. Finally, the work is done, and everyone can see the resulting animated picture.')]"
            ]
          },
          "metadata": {
            "tags": []
          },
          "execution_count": 15
        }
      ]
    },
    {
      "cell_type": "code",
      "metadata": {
        "id": "0U6HFGYOU7v1",
        "outputId": "27e55e8f-ecf3-4146-d1bc-920b729f9b42"
      },
      "source": [
        "data.select('imdb').head(5)"
      ],
      "execution_count": null,
      "outputs": [
        {
          "output_type": "execute_result",
          "data": {
            "text/plain": [
              "[Row(imdb=Row(id=5, rating='6.2', votes='1189')),\n",
              " Row(imdb=Row(id=439, rating='7.4', votes='9847')),\n",
              " Row(imdb=Row(id=488, rating='7.1', votes='448')),\n",
              " Row(imdb=Row(id=832, rating='6.6', votes='1375')),\n",
              " Row(imdb=Row(id=1737, rating='7.3', votes='1034'))]"
            ]
          },
          "metadata": {
            "tags": []
          },
          "execution_count": 17
        }
      ]
    },
    {
      "cell_type": "code",
      "metadata": {
        "id": "sZjQxMKnU7v1",
        "outputId": "160b12b9-1964-4e2d-e816-bc428268fcf4"
      },
      "source": [
        "data.select(['imdb.rating', 'tomatoes.critic.rating']).head(5)"
      ],
      "execution_count": null,
      "outputs": [
        {
          "output_type": "execute_result",
          "data": {
            "text/plain": [
              "[Row(rating='6.2', rating=None),\n",
              " Row(rating='7.4', rating=7.6),\n",
              " Row(rating='7.1', rating=None),\n",
              " Row(rating='6.6', rating=None),\n",
              " Row(rating='7.3', rating=None)]"
            ]
          },
          "metadata": {
            "tags": []
          },
          "execution_count": 19
        }
      ]
    },
    {
      "cell_type": "code",
      "metadata": {
        "id": "b3E_NDy9U7v2",
        "outputId": "c28d8db5-cc05-40e7-e6b4-d89f6d272655"
      },
      "source": [
        "data.select(['imdb.rating']).agg({'rating':'average'}).show()"
      ],
      "execution_count": null,
      "outputs": [
        {
          "output_type": "stream",
          "text": [
            "+---------------+\n",
            "|    avg(rating)|\n",
            "+---------------+\n",
            "|6.6934662236988|\n",
            "+---------------+\n",
            "\n"
          ],
          "name": "stdout"
        }
      ]
    },
    {
      "cell_type": "code",
      "metadata": {
        "id": "VlC4mCPVU7v2",
        "outputId": "fec23154-9bcc-4a47-daf8-f4c27d152a39"
      },
      "source": [
        "genre = data.groupBy(['genres']).count()\n",
        "genre.show()"
      ],
      "execution_count": null,
      "outputs": [
        {
          "output_type": "stream",
          "text": [
            "+--------------------+-----+\n",
            "|              genres|count|\n",
            "+--------------------+-----+\n",
            "|[Fantasy, Musical...|    3|\n",
            "| [Thriller, Mystery]|    2|\n",
            "|[Comedy, Horror, ...|   31|\n",
            "|[Animation, Short...|    9|\n",
            "|[Documentary, Com...|    1|\n",
            "|[Comedy, Thriller...|    1|\n",
            "|  [Short, Animation]|    5|\n",
            "|[Horror, Mystery,...|  118|\n",
            "|[Comedy, Action, ...|    1|\n",
            "|[Action, History,...|    1|\n",
            "|[Short, Comedy, F...|    2|\n",
            "|[Adventure, Comed...|   15|\n",
            "|[Comedy, Romance,...|    1|\n",
            "|[Drama, Horror, R...|   21|\n",
            "|[Action, Adventur...|   78|\n",
            "|     [Horror, Drama]|    3|\n",
            "|[Action, Adventur...|  143|\n",
            "|[Drama, Horror, T...|   91|\n",
            "|[Comedy, Crime, D...|  165|\n",
            "|[Drama, Romance, ...|   19|\n",
            "+--------------------+-----+\n",
            "only showing top 20 rows\n",
            "\n"
          ],
          "name": "stdout"
        }
      ]
    },
    {
      "cell_type": "code",
      "metadata": {
        "id": "sStYfaaAU7v3"
      },
      "source": [
        "# task 4 - writing results to CSV file\n",
        "genre.withColumn('genres', col('genres').cast('string'))\\\n",
        "    .write.option('header', 'true').csv('./genre_count.csv')"
      ],
      "execution_count": null,
      "outputs": []
    },
    {
      "cell_type": "code",
      "metadata": {
        "id": "pZ_lnwUeU7v3"
      },
      "source": [
        "genre.withColumn('genres', col('genres').cast('string'))\\\n",
        "    .coalesce(1).write.option('header', 'true').csv('./genre_count2.csv')"
      ],
      "execution_count": null,
      "outputs": []
    },
    {
      "cell_type": "code",
      "metadata": {
        "id": "jsD9P7MYU7v3"
      },
      "source": [
        "# task 5 - register df as SQL table, run SQL queries\n",
        "data.registerTempTable('data_sql')"
      ],
      "execution_count": null,
      "outputs": []
    },
    {
      "cell_type": "code",
      "metadata": {
        "id": "7QDV6IPyU7v4"
      },
      "source": [
        "countries = spark.sql(\"\"\"\n",
        "SELECT countries, count(_id) as count FROM data_sql \n",
        "GROUP BY countries HAVING count > 100 ORDER BY count desc\n",
        "\"\"\")"
      ],
      "execution_count": null,
      "outputs": []
    },
    {
      "cell_type": "code",
      "metadata": {
        "id": "d0BM3yqEU7v4",
        "outputId": "cb588c90-b631-44c9-a204-d1371aff7ce5"
      },
      "source": [
        "countries.show()"
      ],
      "execution_count": null,
      "outputs": [
        {
          "output_type": "stream",
          "text": [
            "+---------------+-----+\n",
            "|      countries|count|\n",
            "+---------------+-----+\n",
            "|          [USA]| 8985|\n",
            "|           [UK]| 1126|\n",
            "|       [France]|  848|\n",
            "|        [Japan]|  671|\n",
            "|        [India]|  555|\n",
            "|       [Canada]|  535|\n",
            "|        [Italy]|  481|\n",
            "|      [Germany]|  383|\n",
            "|      [UK, USA]|  373|\n",
            "|        [Spain]|  289|\n",
            "|    [Australia]|  262|\n",
            "|  [South Korea]|  254|\n",
            "|  [USA, Canada]|  241|\n",
            "|      [USA, UK]|  228|\n",
            "|      [Finland]|  213|\n",
            "|       [Russia]|  198|\n",
            "|[Italy, France]|  191|\n",
            "|    [Hong Kong]|  191|\n",
            "|       [Sweden]|  174|\n",
            "| [USA, Germany]|  161|\n",
            "+---------------+-----+\n",
            "only showing top 20 rows\n",
            "\n"
          ],
          "name": "stdout"
        }
      ]
    },
    {
      "cell_type": "code",
      "metadata": {
        "id": "zCjcShkVU7v4"
      },
      "source": [
        ""
      ],
      "execution_count": null,
      "outputs": []
    },
    {
      "cell_type": "code",
      "metadata": {
        "id": "nfjGx7TmU7v4"
      },
      "source": [
        "# task 6 - writing results back to MongoDB\n",
        "genre.write.format('com.mongodb.spark.sql.DefaultSource').mode('append').save()"
      ],
      "execution_count": null,
      "outputs": []
    },
    {
      "cell_type": "code",
      "metadata": {
        "id": "-yIzp2TrU7v5"
      },
      "source": [
        "countries.write.format('com.mongodb.spark.sql.DefaultSource').mode('append').save()"
      ],
      "execution_count": null,
      "outputs": []
    },
    {
      "cell_type": "code",
      "metadata": {
        "id": "DvQFeowKU7v5"
      },
      "source": [
        "spark.stop()"
      ],
      "execution_count": null,
      "outputs": []
    },
    {
      "cell_type": "code",
      "metadata": {
        "id": "9nUsQSuoU7v5"
      },
      "source": [
        ""
      ],
      "execution_count": null,
      "outputs": []
    }
  ]
}